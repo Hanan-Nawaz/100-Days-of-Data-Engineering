{
 "cells": [
  {
   "cell_type": "markdown",
   "id": "46226f82-9d26-416e-b318-e9757ceb4fa0",
   "metadata": {},
   "source": [
    "# Write a Python program to sum all the items in a list"
   ]
  },
  {
   "cell_type": "code",
   "execution_count": 4,
   "id": "038f2497-f7df-4be8-8be2-fe4681773dcd",
   "metadata": {},
   "outputs": [
    {
     "name": "stdout",
     "output_type": "stream",
     "text": [
      "Sum of list [0, 1, 2, 3, 4, 5, 6, 7, 8, 9, 10] is 55\n"
     ]
    }
   ],
   "source": [
    "my_list = [x for x in range(0, 11)]\n",
    "\n",
    "print(\"Sum of list %s is %d\" % (my_list, sum(my_list)) )"
   ]
  },
  {
   "cell_type": "markdown",
   "id": "4bd71e66-851e-472c-a265-20b129675127",
   "metadata": {},
   "source": [
    "# Write a Python program to multiply all the items in a list."
   ]
  },
  {
   "cell_type": "code",
   "execution_count": 10,
   "id": "2b762f02-c4c1-420d-bf8a-06dd33c33a61",
   "metadata": {},
   "outputs": [
    {
     "name": "stdout",
     "output_type": "stream",
     "text": [
      "Multiplication of all elements of list [5, 10, 15, 20, 25, 30, 35, 40, 45] is 708750000000\n"
     ]
    }
   ],
   "source": [
    "my_list = [x for x in range(1,50) if x % 5 == 0]\n",
    "\n",
    "multiply = 1\n",
    "\n",
    "for i in my_list:\n",
    "    multiply *= i\n",
    "\n",
    "print(f\"Multiplication of all elements of list {my_list} is {multiply}\")"
   ]
  },
  {
   "cell_type": "markdown",
   "id": "3e8bf4dd-eaf0-48c9-a475-95c9cc4cb651",
   "metadata": {},
   "source": [
    "# Take 10 integer inputs from user and store them in a list and print them on screen."
   ]
  },
  {
   "cell_type": "code",
   "execution_count": 12,
   "id": "7cd31faf-e88d-4920-82e8-8935d888ae55",
   "metadata": {},
   "outputs": [
    {
     "name": "stdin",
     "output_type": "stream",
     "text": [
      "Enter 0 element of list:  2\n",
      "Enter 1 element of list:  1\n",
      "Enter 2 element of list:  3\n",
      "Enter 3 element of list:  4\n",
      "Enter 4 element of list:  5\n",
      "Enter 5 element of list:  6\n",
      "Enter 6 element of list:  8\n",
      "Enter 7 element of list:  7\n",
      "Enter 8 element of list:  22\n",
      "Enter 9 element of list:  334\n",
      "Enter 10 element of list:  45678\n"
     ]
    },
    {
     "name": "stdout",
     "output_type": "stream",
     "text": [
      "['2', '1', '3', '4', '5', '6', '8', '7', '22', '334', '45678']\n"
     ]
    }
   ],
   "source": [
    "user_list = []\n",
    "\n",
    "for x in range(0,11):\n",
    "    # dont use int, because user may enter strings and other data types as well.\n",
    "    user_list.append(input(f\"Enter {x} element of list: \"))\n",
    "\n",
    "print(user_list)"
   ]
  },
  {
   "cell_type": "markdown",
   "id": "a7a58961-c71e-4218-8c42-391e499ad807",
   "metadata": {},
   "source": [
    "# Take 20 integer inputs from user and print the following:\n",
    "# a. number of positive numbers\n",
    "# b. number of negative numbers\n",
    "# c. number of odd numbers\n",
    "# d. number of even numbers\n",
    "# e. number of 0s."
   ]
  },
  {
   "cell_type": "code",
   "execution_count": 16,
   "id": "12971f93-32aa-4c3d-aaae-81d9fe9a4bb1",
   "metadata": {},
   "outputs": [
    {
     "name": "stdin",
     "output_type": "stream",
     "text": [
      "Enter 1 element of list:  0\n",
      "Enter 2 element of list:  1\n",
      "Enter 3 element of list:  0\n",
      "Enter 4 element of list:  2\n",
      "Enter 5 element of list:  3\n",
      "Enter 6 element of list:  4\n",
      "Enter 7 element of list:  5\n",
      "Enter 8 element of list:  6\n",
      "Enter 9 element of list:  7\n",
      "Enter 10 element of list:  8\n",
      "Enter 11 element of list:  9\n",
      "Enter 12 element of list:  -11\n",
      "Enter 13 element of list:  -56\n",
      "Enter 14 element of list:  78\n",
      "Enter 15 element of list:  0\n",
      "Enter 16 element of list:  -34\n",
      "Enter 17 element of list:  -77\n",
      "Enter 18 element of list:  -89\n",
      "Enter 19 element of list:  23\n",
      "Enter 20 element of list:  123467\n"
     ]
    },
    {
     "name": "stdout",
     "output_type": "stream",
     "text": [
      "\n",
      " number of positive numbers are 15\n",
      "number of negative numbers are 5\n",
      "number of odd numbers are 10\n",
      "number of even numbers are 10\n",
      "number of 0s  are 3\n"
     ]
    }
   ],
   "source": [
    "user_list = []\n",
    "\n",
    "for x in range(1,21):\n",
    "    user_list.append(int(input(f\"Enter {x} element of list: \")))\n",
    "\n",
    "positive_no_list = [x for x in user_list if x >= 0]\n",
    "print(f\"\\n number of positive numbers are {len(positive_no_list)}\")\n",
    "\n",
    "negative_no_list = [x for x in user_list if x < 0]\n",
    "print(f\"number of negative numbers are {len(negative_no_list)}\")\n",
    "\n",
    "odd_no_list = [x for x in user_list if x % 2 != 0]\n",
    "print(f\"number of odd numbers are {len(odd_no_list)}\")\n",
    "\n",
    "even_no_list = [x for x in user_list if x % 2 == 0]\n",
    "print(f\"number of even numbers are {len(even_no_list)}\")\n",
    "\n",
    "zeros_list = [x for x in user_list if x == 0]\n",
    "print(f\"number of 0s  are {len(zeros_list)}\")"
   ]
  },
  {
   "cell_type": "markdown",
   "id": "72c50f12-434e-4a64-be2f-da9636f3a3a1",
   "metadata": {},
   "source": [
    "# Take 10 integer inputs from user and store them in a list. Again, ask user to give a number. Now, tell user whether that number is present in list or not."
   ]
  },
  {
   "cell_type": "code",
   "execution_count": 18,
   "id": "e4923793-a918-43e6-98bd-a65dc167fd06",
   "metadata": {},
   "outputs": [
    {
     "name": "stdin",
     "output_type": "stream",
     "text": [
      "Enter 1 element of list:  10\n",
      "Enter 2 element of list:  1\n",
      "Enter 3 element of list:  2\n",
      "Enter 4 element of list:  3\n",
      "Enter 5 element of list:  4\n",
      "Enter 6 element of list:  5\n",
      "Enter 7 element of list:  6\n",
      "Enter 8 element of list:  7\n",
      "Enter 9 element of list:  8\n",
      "Enter 10 element of list:  9\n",
      "Enter 11 element of list:  12\n",
      "Enter the number to search in list :  12\n"
     ]
    },
    {
     "name": "stdout",
     "output_type": "stream",
     "text": [
      "\n",
      "\n",
      "The number 12 is present in list at index 10\n"
     ]
    }
   ],
   "source": [
    "user_list = []\n",
    "\n",
    "for x in range(1,12):\n",
    "    user_list.append(int(input(f\"Enter {x} element of list: \")))\n",
    "\n",
    "search_number = int(input(\"Enter the number to search in list : \"))\n",
    "\n",
    "print(\"\\n\")\n",
    "\n",
    "if user_list.count(search_number) > 0:\n",
    "    print(f\"The number {search_number} is present in list at index {user_list.index(search_number)}\")\n",
    "else:\n",
    "    print(f\"The number {search_number} is not present in  list.\")"
   ]
  },
  {
   "cell_type": "markdown",
   "id": "f6c472dc-2ea9-4587-b27a-07fa606ab9d7",
   "metadata": {},
   "source": [
    "# Make a list by taking 10 inputs from user. Now delete all repeated elements of the list.\n",
    "# E.g.-\n",
    "# INPUT: [1,2,3,2,1,3,12,12,32] OUTPUT: [1,2,3,12,32]"
   ]
  },
  {
   "cell_type": "code",
   "execution_count": 23,
   "id": "ffb1f181-1256-4f45-beff-bce8d44d8970",
   "metadata": {},
   "outputs": [
    {
     "name": "stdin",
     "output_type": "stream",
     "text": [
      "Enter 1 element of list:  1\n",
      "Enter 2 element of list:  2\n",
      "Enter 3 element of list:  3\n",
      "Enter 4 element of list:  2\n",
      "Enter 5 element of list:  1\n",
      "Enter 6 element of list:  3\n",
      "Enter 7 element of list:  12\n",
      "Enter 8 element of list:  12\n",
      "Enter 9 element of list:  32\n"
     ]
    },
    {
     "name": "stdout",
     "output_type": "stream",
     "text": [
      "\n",
      "\n",
      "The unrepeated list is [1, 2, 3, 12, 32]\n"
     ]
    }
   ],
   "source": [
    "user_list = []\n",
    "\n",
    "for x in range(1,10):\n",
    "    user_list.append(int(input(f\"Enter {x} element of list: \")))\n",
    "\n",
    "new_list = []\n",
    "for x in user_list:\n",
    "    if x not in new_list:\n",
    "        new_list.append(x)\n",
    "\n",
    "print()\n",
    "\n",
    "print(f\"The unrepeated list is {new_list}\")"
   ]
  },
  {
   "cell_type": "markdown",
   "id": "8f235e04-1326-4f66-8f7c-61e4aa947300",
   "metadata": {},
   "source": [
    "# Ask user to give integer inputs to make a list. Store only even values given and print the list."
   ]
  },
  {
   "cell_type": "code",
   "execution_count": 26,
   "id": "e6c7c7ec-1fb3-4a5b-a337-018f2a19a69e",
   "metadata": {},
   "outputs": [
    {
     "name": "stdin",
     "output_type": "stream",
     "text": [
      "Enter 1 element of list:  1\n",
      "Enter 2 element of list:  2\n",
      "Enter 3 element of list:  3\n",
      "Enter 4 element of list:  4\n",
      "Enter 5 element of list:  5\n",
      "Enter 6 element of list:  6\n",
      "Enter 7 element of list:  7\n",
      "Enter 8 element of list:  8\n",
      "Enter 9 element of list:  9\n"
     ]
    },
    {
     "name": "stdout",
     "output_type": "stream",
     "text": [
      "\n",
      "The Even list is [2, 4, 6, 8]\n"
     ]
    }
   ],
   "source": [
    "user_list = []\n",
    "\n",
    "for x in range(1,10):\n",
    "    user_input = int(input(f\"Enter {x} element of list: \"))\n",
    "    if user_input % 2 == 0:\n",
    "        user_list.append(user_input)\n",
    "\n",
    "print(f\"\\nThe Even list is {user_list}\")"
   ]
  },
  {
   "cell_type": "code",
   "execution_count": null,
   "id": "2fd33ea8-cf3b-48f3-971b-ad9a0b999873",
   "metadata": {},
   "outputs": [],
   "source": []
  }
 ],
 "metadata": {
  "kernelspec": {
   "display_name": "Python 3 (ipykernel)",
   "language": "python",
   "name": "python3"
  },
  "language_info": {
   "codemirror_mode": {
    "name": "ipython",
    "version": 3
   },
   "file_extension": ".py",
   "mimetype": "text/x-python",
   "name": "python",
   "nbconvert_exporter": "python",
   "pygments_lexer": "ipython3",
   "version": "3.12.4"
  }
 },
 "nbformat": 4,
 "nbformat_minor": 5
}
