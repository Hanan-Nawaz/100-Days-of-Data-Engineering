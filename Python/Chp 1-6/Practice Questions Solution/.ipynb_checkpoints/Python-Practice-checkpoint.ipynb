{
 "cells": [
  {
   "cell_type": "markdown",
   "id": "d607b435-d16d-4323-afdd-e14dd8b9f62b",
   "metadata": {
    "collapsed": true,
    "jupyter": {
     "outputs_hidden": true
    }
   },
   "source": [
    "# Python Practice by Abdul Hanan Nawaz"
   ]
  },
  {
   "cell_type": "markdown",
   "id": "bd9fe0af-9174-4a3b-9515-f617fff3372d",
   "metadata": {
    "collapsed": true,
    "jupyter": {
     "outputs_hidden": true
    }
   },
   "source": [
    "# Question Source https://codeanddebug.in/"
   ]
  },
  {
   "cell_type": "markdown",
   "id": "80cdac66-36fd-4d37-8444-9da1b226e159",
   "metadata": {},
   "source": [
    "# Write a program that takes two numbers as input from the user and then prints the sum of these numbers."
   ]
  },
  {
   "cell_type": "code",
   "execution_count": 3,
   "id": "7f513e17-2e47-4400-9b39-0020559cab97",
   "metadata": {},
   "outputs": [
    {
     "name": "stdin",
     "output_type": "stream",
     "text": [
      "Enter Number One =  1\n",
      "Enter Number Two =  3\n"
     ]
    },
    {
     "name": "stdout",
     "output_type": "stream",
     "text": [
      "sum of 1 and 3 is 4\n"
     ]
    }
   ],
   "source": [
    "num1 = int(input(\"Enter Number One = \"))\n",
    "num2 = int(input(\"Enter Number Two = \"))\n",
    "\n",
    "print(f\"sum of {num1} and {num2} is {num1+num2}\")"
   ]
  },
  {
   "cell_type": "markdown",
   "id": "94c79978-4148-4e78-a458-57a7b40d092b",
   "metadata": {},
   "source": [
    "# Write a Program that takes Length and Breadth as input from user and print the Area of Rectangle."
   ]
  },
  {
   "cell_type": "code",
   "execution_count": 7,
   "id": "913b3aa8-5270-4f6d-8814-6313e9c6feb9",
   "metadata": {},
   "outputs": [
    {
     "name": "stdin",
     "output_type": "stream",
     "text": [
      "Enter Length of Rectnagle =  2\n",
      "Enter Width of Rectnagle =  3\n"
     ]
    },
    {
     "name": "stdout",
     "output_type": "stream",
     "text": [
      "Area of Rectangle is 6\n"
     ]
    }
   ],
   "source": [
    "length = int(input(\"Enter Length of Rectnagle = \"))\n",
    "width = int(input(\"Enter Width of Rectnagle = \"))\n",
    "\n",
    "print(f\"Area of Rectangle is {length*width}\")"
   ]
  },
  {
   "cell_type": "markdown",
   "id": "8c5dd465-c5fc-4ca2-957c-3c64856ce8ea",
   "metadata": {},
   "source": [
    "# Ask 3 numbers from User and Calculate the Average."
   ]
  },
  {
   "cell_type": "code",
   "execution_count": 18,
   "id": "76aca95f-577d-4553-b697-2550c06cd997",
   "metadata": {},
   "outputs": [
    {
     "name": "stdin",
     "output_type": "stream",
     "text": [
      "Enter Number 1 =  2\n",
      "Enter Number 2 =  3\n",
      "Enter Number 3 =  5\n"
     ]
    },
    {
     "name": "stdout",
     "output_type": "stream",
     "text": [
      "Average of 2, 3 and 5 is 3.33\n"
     ]
    }
   ],
   "source": [
    "num1, num2, num3 = int(input(\"Enter Number 1 = \")), int(input(\"Enter Number 2 = \")), int(input(\"Enter Number 3 = \"))  \n",
    "\n",
    "print(\"Average of %d, %d and %d is %.2f\" % (num1, num2, num3, (num1 + num2 + num3) / 3))"
   ]
  },
  {
   "cell_type": "markdown",
   "id": "c3901108-40f1-4858-94df-c65d7b1801b4",
   "metadata": {},
   "source": [
    "# Calculate sum of 5 subjects and Find percentage. / Ask marks in 5 subjects and calculate Total Marks and Find percentage."
   ]
  },
  {
   "cell_type": "code",
   "execution_count": 11,
   "id": "d75e3c86-0147-4ab4-a8ed-8cd1da68a228",
   "metadata": {},
   "outputs": [
    {
     "name": "stdin",
     "output_type": "stream",
     "text": [
      "Enter Obt. Marks in Subject 1:  89\n",
      "Enter Obt. Marks in Subject 2:  90\n",
      "Enter Obt. Marks in Subject 3:  92\n",
      "Enter Obt. Marks in Subject 4:  67\n",
      "Enter Obt. Marks in Subject 5:  84\n"
     ]
    },
    {
     "name": "stdout",
     "output_type": "stream",
     "text": [
      "Total Obtained marks are 422, Whereas the Percentage is 84.4%.\n"
     ]
    }
   ],
   "source": [
    "#Total marks will be 100\n",
    "sub1, sub2, sub3, sub4, sub5 = int(input(\"Enter Obt. Marks in Subject 1: \")), int(input(\"Enter Obt. Marks in Subject 2: \")), int(input(\"Enter Obt. Marks in Subject 3: \")), int(input(\"Enter Obt. Marks in Subject 4: \")), int(input(\"Enter Obt. Marks in Subject 5: \"))\n",
    "\n",
    "sum = (sub1 + sub2 + sub3 + sub4 + sub5)\n",
    "percentage = ((sub1 + sub2 + sub3 + sub4 + sub5) * 100 ) / 500\n",
    "\n",
    "print(f\"Total Obtained marks are {sum}, Whereas the Percentage is {percentage}%.\")"
   ]
  },
  {
   "cell_type": "markdown",
   "id": "3bdf4621-5859-4ba8-8806-47d714268ea8",
   "metadata": {},
   "source": [
    "# Ask value in Rupees and Convert into Paise."
   ]
  },
  {
   "cell_type": "code",
   "execution_count": 13,
   "id": "799bfda4-b9e5-4e07-b263-7deda5a4fc52",
   "metadata": {},
   "outputs": [
    {
     "name": "stdin",
     "output_type": "stream",
     "text": [
      "Enter amount in PKR:  1\n"
     ]
    },
    {
     "name": "stdout",
     "output_type": "stream",
     "text": [
      "Paisa's in PKR 1 are 100 paisa's.\n"
     ]
    }
   ],
   "source": [
    "amount = int(input(\"Enter amount in PKR: \"))\n",
    "\n",
    "print(f\"Paisa's in PKR {amount} are {amount * 100} paisa's.\")"
   ]
  },
  {
   "cell_type": "markdown",
   "id": "b86b97b0-4b9c-476f-8c40-2d9d53c3dab1",
   "metadata": {},
   "source": [
    "# Calculate Area of Square by taking Length from User."
   ]
  },
  {
   "cell_type": "code",
   "execution_count": null,
   "id": "55df017c-853d-4b0c-9dce-fef5561fdb1c",
   "metadata": {},
   "outputs": [],
   "source": [
    "side_length = int(input(\"Enter side length of square:  \"))\n",
    "\n",
    "print(f\"Area of Square is {side_length ** 2}\")"
   ]
  },
  {
   "cell_type": "markdown",
   "id": "960399e0-c32f-480b-a733-89422b028a73",
   "metadata": {},
   "source": [
    "# Ask number of games played in a tournament. Ask the user number of games won and number of games loss. Calculate number of tie and total Points. (1 win= 4 points, 1 tie =2 points)"
   ]
  },
  {
   "cell_type": "code",
   "execution_count": 17,
   "id": "8323714d-ebd6-480d-9377-59a9425ac1f0",
   "metadata": {},
   "outputs": [
    {
     "name": "stdin",
     "output_type": "stream",
     "text": [
      "Enter number of games:  8\n",
      "Enter number of games won:  4\n",
      "Enter number of games lost:  1\n"
     ]
    },
    {
     "name": "stdout",
     "output_type": "stream",
     "text": [
      "Total number of games end up being a tie are 3 and Total points are 22\n"
     ]
    }
   ],
   "source": [
    "no_of_games_played = int(input(\"Enter number of games: \"))\n",
    "no_of_games_won = int(input(\"Enter number of games won: \"))\n",
    "no_of_games_lost = int(input(\"Enter number of games lost: \"))\n",
    "\n",
    "no_of_games_tie = no_of_games_played - (no_of_games_won + no_of_games_lost)\n",
    "total_points = (no_of_games_won * 4) + (no_of_games_tie * 2)\n",
    "\n",
    "print(f\"Total number of games end up being a tie are {no_of_games_tie} and Total points are {total_points}\")"
   ]
  },
  {
   "cell_type": "markdown",
   "id": "408aac1f-9ec6-41b1-8d84-b96ded86c99d",
   "metadata": {},
   "source": [
    "# Take two numbers as input from User and print which one is greater or are they equal."
   ]
  },
  {
   "cell_type": "code",
   "execution_count": 5,
   "id": "2cc945f4-536a-4d59-80e8-37ecadd71490",
   "metadata": {},
   "outputs": [
    {
     "name": "stdin",
     "output_type": "stream",
     "text": [
      "Enter Number 1:  2\n",
      "Enter Number 2:  2\n"
     ]
    },
    {
     "name": "stdout",
     "output_type": "stream",
     "text": [
      "2 is equal to 2 (All Equal)\n"
     ]
    }
   ],
   "source": [
    "num1 = int(input(\"Enter Number 1: \"))\n",
    "num2 = int(input(\"Enter Number 2: \"))\n",
    "\n",
    "if num1 == num2:\n",
    "    print(f\"{num1} is equal to {num2} (All Equal)\")\n",
    "elif num1 > num2:\n",
    "    print(f\"{num1} is greater than {num2} (Number 1)\")\n",
    "else:\n",
    "    print(f\"{num2} is greater than {num1} (number 2)\")"
   ]
  },
  {
   "cell_type": "markdown",
   "id": "a5bfc57a-0de8-4d72-b0f9-2f6ef13049b6",
   "metadata": {},
   "source": [
    "# Take three numbers as input from User and print which one is greater or are they equal."
   ]
  },
  {
   "cell_type": "code",
   "execution_count": 6,
   "id": "5c973f4d-53c9-4302-bdc7-bad0767ecb9b",
   "metadata": {},
   "outputs": [
    {
     "name": "stdin",
     "output_type": "stream",
     "text": [
      "Enter Number 1:  5\n",
      "Enter Number 2:  5\n",
      "Enter Number 3:  5\n"
     ]
    },
    {
     "name": "stdout",
     "output_type": "stream",
     "text": [
      "5 is equal to 5 and 5 (All Equal)\n"
     ]
    }
   ],
   "source": [
    "num1 = int(input(\"Enter Number 1: \"))\n",
    "num2 = int(input(\"Enter Number 2: \"))\n",
    "num3 = int(input(\"Enter Number 3: \"))\n",
    "\n",
    "if num1 == num2 == num3:\n",
    "    print(f\"{num1} is equal to {num2} and {num3} (All Equal)\")\n",
    "elif num1 > num2 > num3:\n",
    "    print(f\"{num1} is greater than {num2} and {num3} (Number 1)\")\n",
    "elif num2 > num3 > num1:\n",
    "    print(f\"{num2} is greater than {num3} and {num1} (Number 2)\")\n",
    "else:\n",
    "    print(f\"{num3} is greater than {num1} and {num2} (Number 3)\")"
   ]
  },
  {
   "cell_type": "markdown",
   "id": "e2e4cd2e-d2e5-4136-8fd0-3d4724d2e84a",
   "metadata": {},
   "source": [
    "# Take Salary as input from User and Update the salary of an employee (a) salary less than 10,000, 5 % increment (b) salary between 10,000 and 20, 000, 10 % increment (c) salary between 20,000 and 50,000, 15 % increment (d) salary more than 50,000, 20 % increment"
   ]
  },
  {
   "cell_type": "code",
   "execution_count": 10,
   "id": "a87e70dd-8f5b-4f0c-8262-d81d594998fe",
   "metadata": {},
   "outputs": [
    {
     "name": "stdin",
     "output_type": "stream",
     "text": [
      "Enter your salary:  60000\n"
     ]
    },
    {
     "name": "stdout",
     "output_type": "stream",
     "text": [
      "you got 20% increment, your salary now is 72000.0\n"
     ]
    }
   ],
   "source": [
    "salary = int(input(\"Enter your salary: \"))\n",
    "\n",
    "if salary < 10000:\n",
    "    print(f\"you got 5% increment, your salary now is {(salary + ((5 * salary) / 100))}\")\n",
    "elif salary >= 10000 and salary < 20000:\n",
    "    print(f\"you got 10% increment, your salary now is {(salary + ((10 * salary) / 100))}\")\n",
    "elif salary >= 20000 and salary < 50000:\n",
    "    print(f\"you got 15% increment, your salary now is {(salary + ((15 * salary) / 100))}\")\n",
    "else: \n",
    "    print(f\"you got 20% increment, your salary now is {(salary + ((20 * salary) / 100))}\")"
   ]
  },
  {
   "cell_type": "markdown",
   "id": "c7c68c1b-a14f-4642-82c7-29098ef4a566",
   "metadata": {},
   "source": [
    "# Ask the number from User and print whether the number is Odd or Even."
   ]
  },
  {
   "cell_type": "code",
   "execution_count": 12,
   "id": "d53e5956-4a29-4919-a665-7ff6cc52fe62",
   "metadata": {},
   "outputs": [
    {
     "name": "stdin",
     "output_type": "stream",
     "text": [
      "Enter your Number to check whether the number is even or odd:  8\n"
     ]
    },
    {
     "name": "stdout",
     "output_type": "stream",
     "text": [
      "The Number 8 is even.\n"
     ]
    }
   ],
   "source": [
    "user_number = int(input(\"Enter your Number to check whether the number is even or odd: \"))\n",
    "\n",
    "if user_number % 2 == 0:\n",
    "    print(f\"The Number {user_number} is even.\")\n",
    "else:\n",
    "    print(f\"The Number {user_number} is odd.\")"
   ]
  },
  {
   "cell_type": "markdown",
   "id": "04e410e6-42fc-489b-9cac-5278911150e7",
   "metadata": {},
   "source": [
    "# A school has following rules for grading system: (a) Below 25 - F (b) 25 to 45 - E (c) 45 to 50 - D (d) 50 to 60 - C (e) 60 to 80 - B (f)  80 or Above 80 – A -> Ask user to enter marks and print the corresponding grade."
   ]
  },
  {
   "cell_type": "code",
   "execution_count": null,
   "id": "535a67a9-7137-4cb0-befe-86bbc61d665e",
   "metadata": {},
   "outputs": [],
   "source": [
    "marks = int(input(\"Enter your marks for grading: \"))\n",
    "\n",
    "if marks < 25:\n",
    "    print(\"Your grade is 'F'\")\n",
    "elif marks >= 25 and marks < 45:\n",
    "    print(\"Your grade is 'E'\")\n",
    "elif marks > 45 and marks < 50:\n",
    "    print(\"Your grade is 'D'\")\n",
    "elif marks > 50 and marks < 60:\n",
    "    print(\"Your grade is 'C'\")\n",
    "elif marks > 60 and marks < 80:\n",
    "    print(\"Your grade is 'B'\")\n",
    "else:\n",
    "    print(\"Your grade is 'A'\")"
   ]
  },
  {
   "cell_type": "markdown",
   "id": "febb0a72-f3b6-407c-8406-b8adba0797c9",
   "metadata": {},
   "source": [
    "# A student will not be allowed to sit in exam if his/her attendance is less than 75%. (a) Take following input from user (i) Number of classes held (ii) Number of classes attended. (b) Print percentage of class attended (c) Print Is student is allowed to sit in exam or not."
   ]
  },
  {
   "cell_type": "code",
   "execution_count": null,
   "id": "4223f0a5-7fc7-45bf-92ba-c23a203d007f",
   "metadata": {},
   "outputs": [],
   "source": [
    "no_of_classes_held, no_of_classes_attended = int(input(\"Enter number of classes held: \")), int(input(\"Enter number of classes attended: \"))\n",
    "\n",
    "percentage_of_attendance = no_of_classes_attended * 100 / no_of_classes_held\n",
    "\n",
    "if percentage_of_attendance > 75:\n",
    "    print(f\"Your attendance percentage is {percentage_of_attendance} and You are allowed to sit in exam.\")\n",
    "else:\n",
    "    print(f\"Your attendance percentage is {percentage_of_attendance} and You are not allowed to sit in exam.\")"
   ]
  },
  {
   "cell_type": "markdown",
   "id": "9d347fda-c954-4468-b97f-c14604294ddd",
   "metadata": {},
   "source": [
    "# Calculate the purchase amount after deduction criteria on printed price (a) printed price between 500 and 1000, allow 5% discount (b) printed price between 1000 and 5000, allow 10% discount (c) printed price between 5000 and 10000, allow 15% discount (d) printed price more than 10000, allow 20% discount."
   ]
  },
  {
   "cell_type": "code",
   "execution_count": 20,
   "id": "06c26bb6-212e-4c35-8cdb-e14877a5e99b",
   "metadata": {},
   "outputs": [
    {
     "name": "stdin",
     "output_type": "stream",
     "text": [
      "Enter the price:  8000\n"
     ]
    },
    {
     "name": "stdout",
     "output_type": "stream",
     "text": [
      "you got 20% discount, Purchase Amount now is 6400.0\n"
     ]
    }
   ],
   "source": [
    "price = int(input(\"Enter the price: \"))\n",
    "\n",
    "if price > 500 and price < 1000:\n",
    "    print(f\"you got 5% discount, Purchase Amount now is {(price - ((5 * price) / 100))}\")\n",
    "elif salary >= 1000 and salary < 5000:\n",
    "    print(f\"you got 10% discount, Purchase Amount now is {(price - ((10 * price) / 100))}\")\n",
    "elif salary >= 5000 and salary < 10000:\n",
    "    print(f\"you got 15% discount, Purchase Amount now is {(price - ((15 * price) / 100))}\")\n",
    "elif salary > 10000:\n",
    "    print(f\"you got 20% discount, Purchase Amount now is {(price - ((20 * price) / 100))}\")"
   ]
  },
  {
   "cell_type": "markdown",
   "id": "8cfc5bc8-cb7d-4d73-9cc6-a4a01122915f",
   "metadata": {},
   "source": [
    "# String Slicing"
   ]
  },
  {
   "cell_type": "code",
   "execution_count": 32,
   "id": "4970e5d5-9f6f-4776-b301-d7cc282efb70",
   "metadata": {},
   "outputs": [
    {
     "name": "stdout",
     "output_type": "stream",
     "text": [
      "Abdul Hanan Nawaz\n"
     ]
    }
   ],
   "source": [
    "name = \"Abdul Hanan Nawaz\"\n",
    "# print(name[-18:])\n",
    "# print(name[1:16:3])"
   ]
  },
  {
   "cell_type": "markdown",
   "id": "d6cf5d5b-be4c-420e-997b-9efc69327613",
   "metadata": {},
   "source": [
    "# Print first 10 Natural numbers."
   ]
  },
  {
   "cell_type": "code",
   "execution_count": 1,
   "id": "38a9aa3f-3ae2-4223-81f1-b7f150cb966b",
   "metadata": {
    "scrolled": true
   },
   "outputs": [
    {
     "name": "stdout",
     "output_type": "stream",
     "text": [
      "0\n",
      "1\n",
      "2\n",
      "3\n",
      "4\n",
      "5\n",
      "6\n",
      "7\n",
      "8\n",
      "9\n",
      "10\n"
     ]
    }
   ],
   "source": [
    "count = 0\n",
    "while count <= 10:\n",
    "    print(count)\n",
    "    count = count + 1"
   ]
  },
  {
   "cell_type": "markdown",
   "id": "7b4564a1-8fd0-465e-b426-71f74af58f4e",
   "metadata": {},
   "source": [
    "# Print all the even numbers from 1 to 100."
   ]
  },
  {
   "cell_type": "code",
   "execution_count": 3,
   "id": "319c7345-ee79-4ba4-99f4-6dd2d4ee55b6",
   "metadata": {},
   "outputs": [
    {
     "name": "stdout",
     "output_type": "stream",
     "text": [
      "0\n",
      "2\n",
      "4\n",
      "6\n",
      "8\n",
      "10\n",
      "12\n",
      "14\n",
      "16\n",
      "18\n",
      "20\n",
      "22\n",
      "24\n",
      "26\n",
      "28\n",
      "30\n",
      "32\n",
      "34\n",
      "36\n",
      "38\n",
      "40\n",
      "42\n",
      "44\n",
      "46\n",
      "48\n",
      "50\n",
      "52\n",
      "54\n",
      "56\n",
      "58\n",
      "60\n",
      "62\n",
      "64\n",
      "66\n",
      "68\n",
      "70\n",
      "72\n",
      "74\n",
      "76\n",
      "78\n",
      "80\n",
      "82\n",
      "84\n",
      "86\n",
      "88\n",
      "90\n",
      "92\n",
      "94\n",
      "96\n",
      "98\n",
      "100\n"
     ]
    }
   ],
   "source": [
    "count = 0\n",
    "\n",
    "while count <= 100:\n",
    "    if count % 2 == 0:\n",
    "        print(count)\n",
    "    count = count + 1"
   ]
  },
  {
   "cell_type": "markdown",
   "id": "afb98050-8026-401d-93e6-426a559e0faa",
   "metadata": {},
   "source": [
    "# Find sum of N numbers where N is input from User."
   ]
  },
  {
   "cell_type": "code",
   "execution_count": 11,
   "id": "24842a92-4128-40ff-a8b4-f3f389a5d732",
   "metadata": {},
   "outputs": [
    {
     "name": "stdin",
     "output_type": "stream",
     "text": [
      "Enter the Number you want sum of:  10\n"
     ]
    },
    {
     "name": "stdout",
     "output_type": "stream",
     "text": [
      "Sum of first 10 numbers are 55\n"
     ]
    }
   ],
   "source": [
    "number = int(input(\"Enter the Number you want sum of: \"))\n",
    "\n",
    "count = 0\n",
    "sum = 0\n",
    "\n",
    "while count < number:\n",
    "    count = count + 1\n",
    "    sum = sum + count\n",
    "    \n",
    "print(f\"Sum of first {number} numbers are {sum}\")"
   ]
  },
  {
   "cell_type": "markdown",
   "id": "4504e0a4-54b5-4600-b248-8f1c84be25fe",
   "metadata": {},
   "source": [
    "# Check whether number entered by User is Prime or Not."
   ]
  },
  {
   "cell_type": "code",
   "execution_count": 10,
   "id": "8dbeae50-f9f5-4843-8c37-b2f1bb65f2e7",
   "metadata": {},
   "outputs": [
    {
     "name": "stdin",
     "output_type": "stream",
     "text": [
      "Enter the Number you want to check is prime or not? :  17\n"
     ]
    },
    {
     "name": "stdout",
     "output_type": "stream",
     "text": [
      "The number 17 is prime number\n"
     ]
    }
   ],
   "source": [
    "number = int(input(\"Enter the Number you want to check, it is prime or not? : \"))\n",
    "\n",
    "count = 2\n",
    "\n",
    "while count < number:\n",
    "    if number % count == 0:\n",
    "        print(f\"The number {number} is not prime number\")\n",
    "        break\n",
    "    if count == number - 1 and number % count != 0:\n",
    "        print(f\"The number {number} is prime number\")\n",
    "    count += 1\n",
    "\n",
    "# bad code technique, don't use condition statements inside the loop until, needed"
   ]
  },
  {
   "cell_type": "markdown",
   "id": "b826ff85-4e5b-44a1-bf39-1a1c521d1a29",
   "metadata": {},
   "source": [
    "#  Check whether number entered by User is Armstrong or not."
   ]
  },
  {
   "cell_type": "code",
   "execution_count": 17,
   "id": "52b35271-26f1-4411-971c-fe181b4b6298",
   "metadata": {},
   "outputs": [
    {
     "name": "stdin",
     "output_type": "stream",
     "text": [
      "Enter the Number you want to check, it is Armstrong or not? :  54748\n"
     ]
    },
    {
     "name": "stdout",
     "output_type": "stream",
     "text": [
      "The number 54748 is Amstring Number\n"
     ]
    }
   ],
   "source": [
    "number = input(\"Enter the Number you want to check, it is Armstrong or not? : \")\n",
    "count = 0\n",
    "sum = 0\n",
    "\n",
    "while count < len(number):\n",
    "    sum += int(number[count]) ** len(number)\n",
    "    count += 1\n",
    "\n",
    "if sum == int(number):\n",
    "    print(f\"The number {number} is Amstring Number\")\n",
    "else:\n",
    "    print(f\"The number {number} is not Amstring Number\")"
   ]
  },
  {
   "cell_type": "markdown",
   "id": "2435e008-5016-440f-b0ac-0da42f5b0aee",
   "metadata": {},
   "source": [
    "# Find Factorial of a number entered by User."
   ]
  },
  {
   "cell_type": "code",
   "execution_count": 27,
   "id": "022945a5-d50d-4683-b3c8-7d75fbd4ad68",
   "metadata": {},
   "outputs": [
    {
     "name": "stdin",
     "output_type": "stream",
     "text": [
      "Enter the Number you want to get factorial of :  3\n"
     ]
    },
    {
     "name": "stdout",
     "output_type": "stream",
     "text": [
      "Factorial of 3 is 6\n"
     ]
    }
   ],
   "source": [
    "number = int(input(\"Enter the Number you want to get factorial of : \"))\n",
    "\n",
    "factorial_of_num = 1\n",
    "count = number\n",
    "\n",
    "while count > 1:\n",
    "    factorial_of_num *=  count\n",
    "    count -= 1\n",
    "\n",
    "print(f\"Factorial of {number} is {factorial_of_num}\")"
   ]
  },
  {
   "cell_type": "markdown",
   "id": "4f273292-df4c-4fac-8c30-7909a5e81a77",
   "metadata": {},
   "source": [
    "# Print the first 10 multiples of a number entered by User."
   ]
  },
  {
   "cell_type": "code",
   "execution_count": 28,
   "id": "e0f3a688-2ef6-4e78-9127-b277c614c987",
   "metadata": {},
   "outputs": [
    {
     "name": "stdin",
     "output_type": "stream",
     "text": [
      "Enter the Number you want to get first 10 mutiples of :  10\n"
     ]
    },
    {
     "name": "stdout",
     "output_type": "stream",
     "text": [
      "10 x 1 = 10\n",
      "10 x 2 = 20\n",
      "10 x 3 = 30\n",
      "10 x 4 = 40\n",
      "10 x 5 = 50\n",
      "10 x 6 = 60\n",
      "10 x 7 = 70\n",
      "10 x 8 = 80\n",
      "10 x 9 = 90\n",
      "10 x 10 = 100\n"
     ]
    }
   ],
   "source": [
    "number = int(input(\"Enter the Number you want to get first 10 mutiples of : \"))\n",
    "\n",
    "count = 1\n",
    "\n",
    "while count <= 10:\n",
    "    print(f\"{number} x {count} = {count * number}\")\n",
    "    count += 1"
   ]
  },
  {
   "cell_type": "markdown",
   "id": "e53c6081-0ec2-44ea-9f0b-02ae9864522d",
   "metadata": {},
   "source": [
    "# Count the number of digits in a number that is entered by User.\n"
   ]
  },
  {
   "cell_type": "code",
   "execution_count": 30,
   "id": "65a3efd6-ed3a-48fc-b74a-8bc59e73b671",
   "metadata": {},
   "outputs": [
    {
     "name": "stdin",
     "output_type": "stream",
     "text": [
      "Enter the Number of digits in a number :  89076\n"
     ]
    },
    {
     "name": "stdout",
     "output_type": "stream",
     "text": [
      "The digits in 89076 are 5\n"
     ]
    }
   ],
   "source": [
    "number = int(input(\"Enter the Number of digits in a number : \"))\n",
    "number_ = number \n",
    "count = 0\n",
    "\n",
    "while number > 0:\n",
    "    count += 1\n",
    "    number //= 10\n",
    "\n",
    "print(f\"The digits in {number_} are {count}\")"
   ]
  },
  {
   "cell_type": "markdown",
   "id": "a7c60279-67ad-47e0-9e5e-dd9b02146580",
   "metadata": {},
   "source": [
    "# Write a Program to Reverse a number"
   ]
  },
  {
   "cell_type": "code",
   "execution_count": 32,
   "id": "2dc5716b-deb7-4f42-8c0c-55f6a9c9dae8",
   "metadata": {},
   "outputs": [
    {
     "name": "stdin",
     "output_type": "stream",
     "text": [
      "Enter the Number of to get reverse of a number :  8976\n"
     ]
    },
    {
     "name": "stdout",
     "output_type": "stream",
     "text": [
      "The reverse of 8976 are 6798\n"
     ]
    }
   ],
   "source": [
    "number = int(input(\"Enter the Number of to get reverse of a number : \"))\n",
    "\n",
    "number_ = number \n",
    "reverse_number = 0\n",
    "\n",
    "while number > 0:\n",
    "    last_digit = number % 10\n",
    "    reverse_number = reverse_number * 10 +  last_digit\n",
    "    number //= 10\n",
    "\n",
    "print(f\"The reverse of {number_} are {reverse_number}\")\n"
   ]
  },
  {
   "cell_type": "markdown",
   "id": "17d2a994-a0cd-4a34-9d1d-cb5c3aa7b67d",
   "metadata": {},
   "source": [
    "# Print first 10 Natural numbers."
   ]
  },
  {
   "cell_type": "code",
   "execution_count": 2,
   "id": "a6034ca3-2fed-44a5-b1d5-00c4b2be63c8",
   "metadata": {},
   "outputs": [
    {
     "name": "stdout",
     "output_type": "stream",
     "text": [
      "1\n",
      "2\n",
      "3\n",
      "4\n",
      "5\n",
      "6\n",
      "7\n",
      "8\n",
      "9\n",
      "10\n"
     ]
    }
   ],
   "source": [
    "for i in range(1,11):\n",
    "    print(f\"{i}\")"
   ]
  },
  {
   "cell_type": "markdown",
   "id": "70f24857-10f8-428c-907d-c9d878fec7ba",
   "metadata": {},
   "source": [
    "# Print all the even numbers from 1 to 100."
   ]
  },
  {
   "cell_type": "code",
   "execution_count": 5,
   "id": "a5377705-14b5-4428-8d7a-3658584e6989",
   "metadata": {},
   "outputs": [
    {
     "name": "stdout",
     "output_type": "stream",
     "text": [
      "2\n",
      "4\n",
      "6\n",
      "8\n",
      "10\n",
      "12\n",
      "14\n",
      "16\n",
      "18\n",
      "20\n",
      "22\n",
      "24\n",
      "26\n",
      "28\n",
      "30\n",
      "32\n",
      "34\n",
      "36\n",
      "38\n",
      "40\n",
      "42\n",
      "44\n",
      "46\n",
      "48\n",
      "50\n",
      "52\n",
      "54\n",
      "56\n",
      "58\n",
      "60\n",
      "62\n",
      "64\n",
      "66\n",
      "68\n",
      "70\n",
      "72\n",
      "74\n",
      "76\n",
      "78\n",
      "80\n",
      "82\n",
      "84\n",
      "86\n",
      "88\n",
      "90\n",
      "92\n",
      "94\n",
      "96\n",
      "98\n",
      "100\n"
     ]
    }
   ],
   "source": [
    "for i in range(1,101):\n",
    "    if i % 2 == 0:\n",
    "        print(f\"{i}\")"
   ]
  },
  {
   "cell_type": "markdown",
   "id": "6481bb83-d23e-49fb-b027-0eec13177931",
   "metadata": {},
   "source": [
    "# Find sum of N numbers where N is input from User."
   ]
  },
  {
   "cell_type": "code",
   "execution_count": 8,
   "id": "d4d71edf-5358-49f5-8c39-bf8e918baf74",
   "metadata": {},
   "outputs": [
    {
     "name": "stdin",
     "output_type": "stream",
     "text": [
      "Enter the number :  2\n"
     ]
    },
    {
     "name": "stdout",
     "output_type": "stream",
     "text": [
      "3\n"
     ]
    }
   ],
   "source": [
    "user_input = int(input(\"Enter the number : \"))\n",
    "sum = 0\n",
    "\n",
    "for i in range(0,user_input + 1):\n",
    "    sum += i\n",
    "\n",
    "print(sum)"
   ]
  },
  {
   "cell_type": "markdown",
   "id": "2c2675b5-6d3a-4b7e-9f21-48590b455326",
   "metadata": {},
   "source": [
    "# Check whether number entered by User is Prime or Not."
   ]
  },
  {
   "cell_type": "code",
   "execution_count": null,
   "id": "cfab4170-e9e4-4860-81b5-12b3503e91d5",
   "metadata": {},
   "outputs": [],
   "source": [
    "user_input = int(input(\"Enter the number : \"))\n",
    "is_prime = True\n",
    "\n",
    "for i in range (2, user_input):\n",
    "    if user_input % i == 0 :\n",
    "        is_prime = False\n",
    "        break\n",
    "\n",
    "if is_prime:\n",
    "    print(f\"{user_input} is prime number.\")\n",
    "else:\n",
    "    print(f\"{user_input} is not prime number.\")"
   ]
  },
  {
   "cell_type": "markdown",
   "id": "59fc76c9-879a-4e66-8a9d-ec82e6012b7f",
   "metadata": {},
   "source": [
    "# Check whether number entered by User is Armstrong or not."
   ]
  },
  {
   "cell_type": "code",
   "execution_count": 21,
   "id": "2a1eb791-876c-4e48-bb6a-303d1deeac0a",
   "metadata": {},
   "outputs": [
    {
     "name": "stdin",
     "output_type": "stream",
     "text": [
      "Enter the number :  1634\n"
     ]
    },
    {
     "name": "stdout",
     "output_type": "stream",
     "text": [
      "1634 is Armstrong Number\n"
     ]
    }
   ],
   "source": [
    "user_input = input(\"Enter the number : \")\n",
    "digits_user_input = len(user_input)\n",
    "sum = 0\n",
    "\n",
    "for i in range(0, digits_user_input):\n",
    "    sum += int(user_input[i]) ** digits_user_input\n",
    "\n",
    "if sum == int(user_input):\n",
    "    print(f\"{user_input} is Armstrong Number\")\n",
    "else:\n",
    "    print(f\"{user_input} is not Armstrong Number\")"
   ]
  },
  {
   "cell_type": "markdown",
   "id": "e6c3798f-f78c-45ab-bbb1-1907ee9e47ff",
   "metadata": {},
   "source": [
    "# Print multiplication table of a number entered by user."
   ]
  },
  {
   "cell_type": "code",
   "execution_count": 23,
   "id": "02df6608-496f-4bab-9365-0d3902c27b68",
   "metadata": {},
   "outputs": [
    {
     "name": "stdin",
     "output_type": "stream",
     "text": [
      "Enter the number :  5\n"
     ]
    },
    {
     "name": "stdout",
     "output_type": "stream",
     "text": [
      "5 x 1 = 5\n",
      "5 x 2 = 10\n",
      "5 x 3 = 15\n",
      "5 x 4 = 20\n",
      "5 x 5 = 25\n",
      "5 x 6 = 30\n",
      "5 x 7 = 35\n",
      "5 x 8 = 40\n",
      "5 x 9 = 45\n",
      "5 x 10 = 50\n"
     ]
    }
   ],
   "source": [
    "user_input = int(input(\"Enter the number : \"))\n",
    "\n",
    "for i in range(1,11):\n",
    "    print(f\"{user_input} x {i} = {user_input * i}\")\n"
   ]
  },
  {
   "cell_type": "markdown",
   "id": "f0f4df6d-a700-4ee4-b9d7-22f4543ba23f",
   "metadata": {},
   "source": [
    "# Program to display all the prime numbers within a range."
   ]
  },
  {
   "cell_type": "code",
   "execution_count": 39,
   "id": "dceda89f-4791-49c5-8010-2916c0ba4d7c",
   "metadata": {},
   "outputs": [
    {
     "name": "stdin",
     "output_type": "stream",
     "text": [
      "Enter the starting point :  1\n",
      "Enter the ending point :  10\n"
     ]
    },
    {
     "name": "stdout",
     "output_type": "stream",
     "text": [
      "1\n",
      "2\n",
      "3\n",
      "5\n",
      "7\n"
     ]
    }
   ],
   "source": [
    "start = int(input(\"Enter the starting point : \"))\n",
    "end = int(input(\"Enter the ending point : \"))\n",
    "is_prime = True\n",
    "for i in range (start, end + 1):\n",
    "    is_prime = True\n",
    "    for j in range (2, i):\n",
    "        if i % j == 0:\n",
    "            is_prime = False\n",
    "            break\n",
    "    if is_prime:\n",
    "        print(i)\n",
    "    \n"
   ]
  },
  {
   "cell_type": "markdown",
   "id": "3571e20e-3362-4482-9ed6-bab705798ba0",
   "metadata": {},
   "source": [
    " # Making Pattern\n",
    " # *\n",
    " # * *\n",
    " # * * *\n",
    " # * * * *\n",
    " # * * * * *"
   ]
  },
  {
   "cell_type": "code",
   "execution_count": 45,
   "id": "47edc00b-0c40-41c3-a011-c8a6f3f1bf15",
   "metadata": {},
   "outputs": [
    {
     "name": "stdout",
     "output_type": "stream",
     "text": [
      "* \n",
      "* * \n",
      "* * * \n",
      "* * * * \n",
      "* * * * * \n"
     ]
    }
   ],
   "source": [
    "for i in range (1, 6):\n",
    "    for j in range (0 , i):\n",
    "        print(\"*\", end = \" \")\n",
    "    print()"
   ]
  },
  {
   "cell_type": "markdown",
   "id": "a29883a5-494d-47fa-b26f-3b9382796bd9",
   "metadata": {},
   "source": [
    " # Making Pattern\n",
    " # 1\n",
    " # 1 2\n",
    " # 1 2 3\n",
    " # 1 2 3 4\n",
    " # 1 2 3 4 5"
   ]
  },
  {
   "cell_type": "code",
   "execution_count": 55,
   "id": "b947b3f4-255a-49fe-ad59-1898ffe27caf",
   "metadata": {},
   "outputs": [
    {
     "name": "stdout",
     "output_type": "stream",
     "text": [
      "1 \n",
      "1 2 \n",
      "1 2 3 \n",
      "1 2 3 4 \n",
      "1 2 3 4 5 \n"
     ]
    }
   ],
   "source": [
    "for i in range (1, 6):\n",
    "    for j in range (1, i + 1):\n",
    "        print(j, end= \" \")\n",
    "    print()"
   ]
  },
  {
   "cell_type": "markdown",
   "id": "d5fec837-d219-4572-a860-353178a28b78",
   "metadata": {},
   "source": [
    " # Making Pattern\n",
    " # 5\n",
    " # 5 4\n",
    " # 5 4 3\n",
    " # 5 4 3 2\n",
    " # 5 4 3 2 1"
   ]
  },
  {
   "cell_type": "code",
   "execution_count": 61,
   "id": "990e2857-5394-45cb-8fb3-b6b05e7fbe08",
   "metadata": {},
   "outputs": [
    {
     "name": "stdout",
     "output_type": "stream",
     "text": [
      "5 \n",
      "5 4 \n",
      "5 4 3 \n",
      "5 4 3 2 \n",
      "5 4 3 2 1 \n"
     ]
    }
   ],
   "source": [
    "for i in range (5, 0, -1):\n",
    "    for j in range (5, i-1, -1):\n",
    "        print(j, end= \" \")\n",
    "    print()"
   ]
  },
  {
   "cell_type": "markdown",
   "id": "103253f0-780e-40d2-837b-240405e942a2",
   "metadata": {},
   "source": [
    "# Making Pattern\n",
    " # 5 5 5 5 5\n",
    " # 4 4 4 4\n",
    " # 3 3 3\n",
    " # 2 2 \n",
    " # 1"
   ]
  },
  {
   "cell_type": "code",
   "execution_count": 62,
   "id": "54ad5b6d-5d48-4b54-b6f3-51fccf77e8bf",
   "metadata": {},
   "outputs": [
    {
     "name": "stdout",
     "output_type": "stream",
     "text": [
      "5 5 5 5 5 \n",
      "4 4 4 4 \n",
      "3 3 3 \n",
      "2 2 \n",
      "1 \n"
     ]
    }
   ],
   "source": [
    "for i in range (5, 0, -1):\n",
    "    for j in range (0, i):\n",
    "        print(i, end = \" \")\n",
    "    print()"
   ]
  },
  {
   "cell_type": "markdown",
   "id": "d35562b7-4f23-4009-86fe-e1c81f8a99c1",
   "metadata": {},
   "source": [
    " # Making Pattern (opposite side)\n",
    " #         1\n",
    " #       2 1\n",
    " #     3 2 1\n",
    " #   4 3 2 1\n",
    " # 5 4 3 2 1"
   ]
  },
  {
   "cell_type": "code",
   "execution_count": 78,
   "id": "941afcfc-15af-4559-b27f-4d282c91ab8d",
   "metadata": {},
   "outputs": [
    {
     "name": "stdout",
     "output_type": "stream",
     "text": [
      "    1\n",
      "   21\n",
      "  321\n",
      " 4321\n",
      "54321\n"
     ]
    }
   ],
   "source": [
    "for i in range (1, 6):\n",
    "    print(\" \" * (5 - i), end = \"\" )\n",
    "    for j in range(i, 0, -1):\n",
    "        print(j, end=\"\")\n",
    "    print()"
   ]
  },
  {
   "cell_type": "markdown",
   "id": "4dbd3409-b449-4432-a16a-8eb1668d19fa",
   "metadata": {},
   "source": [
    " # Making Pattern (opposite side)\n",
    " #         5\n",
    " #       4 5\n",
    " #     3 4 5\n",
    " #   2 3 4 5\n",
    " # 1 2 3 4 5"
   ]
  },
  {
   "cell_type": "code",
   "execution_count": 84,
   "id": "5f218c72-947e-4878-aafd-f716333ee6da",
   "metadata": {},
   "outputs": [
    {
     "name": "stdout",
     "output_type": "stream",
     "text": [
      "    5\n",
      "   54\n",
      "  543\n",
      " 5432\n",
      "54321\n"
     ]
    }
   ],
   "source": [
    "for i in range (5, 0, -1):\n",
    "    print(\" \" * (i - 1), end = \"\" )\n",
    "    for j in range(5, i-1, -1):\n",
    "        print(j, end=\"\")\n",
    "    print()"
   ]
  },
  {
   "cell_type": "markdown",
   "id": "c0f1d244-87cb-43a1-9cb2-dc0bf5da80f3",
   "metadata": {},
   "source": [
    "# Write a program to display following Output\n",
    "# a. 1 2 3 4 5 6 7 8 9 10\n",
    "# b. 2 4 6 8 10 12 1416 18 20\n",
    "# c. 3 6 9 12 15 18 21 24 27 30\n",
    "# d. 4 8 12 16 20 24 28 32 36 40 \n",
    "# e. 5 10 15 20 25 30 35 40 45 50"
   ]
  },
  {
   "cell_type": "code",
   "execution_count": 85,
   "id": "46a46948-0395-411e-abe4-95e972db6798",
   "metadata": {},
   "outputs": [
    {
     "name": "stdout",
     "output_type": "stream",
     "text": [
      "1 2 3 4 5 6 7 8 9 10 \n",
      "2 4 6 8 10 12 14 16 18 20 \n",
      "3 6 9 12 15 18 21 24 27 30 \n",
      "4 8 12 16 20 24 28 32 36 40 \n",
      "5 10 15 20 25 30 35 40 45 50 \n"
     ]
    }
   ],
   "source": [
    "for i in range (1, 6):\n",
    "    for j in range (1, 11):\n",
    "        print(i * j, end = \" \")\n",
    "    print()"
   ]
  },
  {
   "cell_type": "code",
   "execution_count": null,
   "id": "1dbadf7b-d348-4caf-8dc6-395636fc435b",
   "metadata": {},
   "outputs": [],
   "source": []
  }
 ],
 "metadata": {
  "kernelspec": {
   "display_name": "Python 3 (ipykernel)",
   "language": "python",
   "name": "python3"
  },
  "language_info": {
   "codemirror_mode": {
    "name": "ipython",
    "version": 3
   },
   "file_extension": ".py",
   "mimetype": "text/x-python",
   "name": "python",
   "nbconvert_exporter": "python",
   "pygments_lexer": "ipython3",
   "version": "3.12.4"
  }
 },
 "nbformat": 4,
 "nbformat_minor": 5
}
